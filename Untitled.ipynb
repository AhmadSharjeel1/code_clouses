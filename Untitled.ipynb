{
 "cells": [
  {
   "cell_type": "code",
   "execution_count": 1,
   "id": "99d47544",
   "metadata": {},
   "outputs": [],
   "source": [
    "##Pandas: For importing the dataset.\n",
    "##Seaborn/Matplotlib: For data visualization.\n",
    "import pandas as pd\n",
    "import seaborn as sns\n",
    "import matplotlib.pyplot as plt\n"
   ]
  },
  {
   "cell_type": "code",
   "execution_count": null,
   "id": "8e9a32e4",
   "metadata": {},
   "outputs": [],
   "source": []
  },
  {
   "cell_type": "code",
   "execution_count": 3,
   "id": "94cd340b",
   "metadata": {},
   "outputs": [
    {
     "data": {
      "text/html": [
       "<div>\n",
       "<style scoped>\n",
       "    .dataframe tbody tr th:only-of-type {\n",
       "        vertical-align: middle;\n",
       "    }\n",
       "\n",
       "    .dataframe tbody tr th {\n",
       "        vertical-align: top;\n",
       "    }\n",
       "\n",
       "    .dataframe thead th {\n",
       "        text-align: right;\n",
       "    }\n",
       "</style>\n",
       "<table border=\"1\" class=\"dataframe\">\n",
       "  <thead>\n",
       "    <tr style=\"text-align: right;\">\n",
       "      <th></th>\n",
       "      <th>title</th>\n",
       "      <th>text</th>\n",
       "      <th>subject</th>\n",
       "      <th>date</th>\n",
       "      <th>class</th>\n",
       "    </tr>\n",
       "  </thead>\n",
       "  <tbody>\n",
       "    <tr>\n",
       "      <th>0</th>\n",
       "      <td>Donald Trump Sends Out Embarrassing New Year’...</td>\n",
       "      <td>Donald Trump just couldn t wish all Americans ...</td>\n",
       "      <td>News</td>\n",
       "      <td>December 31, 2017</td>\n",
       "      <td>0</td>\n",
       "    </tr>\n",
       "    <tr>\n",
       "      <th>1</th>\n",
       "      <td>Drunk Bragging Trump Staffer Started Russian ...</td>\n",
       "      <td>House Intelligence Committee Chairman Devin Nu...</td>\n",
       "      <td>News</td>\n",
       "      <td>December 31, 2017</td>\n",
       "      <td>0</td>\n",
       "    </tr>\n",
       "    <tr>\n",
       "      <th>2</th>\n",
       "      <td>Sheriff David Clarke Becomes An Internet Joke...</td>\n",
       "      <td>On Friday, it was revealed that former Milwauk...</td>\n",
       "      <td>News</td>\n",
       "      <td>December 30, 2017</td>\n",
       "      <td>0</td>\n",
       "    </tr>\n",
       "    <tr>\n",
       "      <th>3</th>\n",
       "      <td>Trump Is So Obsessed He Even Has Obama’s Name...</td>\n",
       "      <td>On Christmas day, Donald Trump announced that ...</td>\n",
       "      <td>News</td>\n",
       "      <td>December 29, 2017</td>\n",
       "      <td>0</td>\n",
       "    </tr>\n",
       "    <tr>\n",
       "      <th>4</th>\n",
       "      <td>Pope Francis Just Called Out Donald Trump Dur...</td>\n",
       "      <td>Pope Francis used his annual Christmas Day mes...</td>\n",
       "      <td>News</td>\n",
       "      <td>December 25, 2017</td>\n",
       "      <td>0</td>\n",
       "    </tr>\n",
       "  </tbody>\n",
       "</table>\n",
       "</div>"
      ],
      "text/plain": [
       "                                               title  \\\n",
       "0   Donald Trump Sends Out Embarrassing New Year’...   \n",
       "1   Drunk Bragging Trump Staffer Started Russian ...   \n",
       "2   Sheriff David Clarke Becomes An Internet Joke...   \n",
       "3   Trump Is So Obsessed He Even Has Obama’s Name...   \n",
       "4   Pope Francis Just Called Out Donald Trump Dur...   \n",
       "\n",
       "                                                text subject  \\\n",
       "0  Donald Trump just couldn t wish all Americans ...    News   \n",
       "1  House Intelligence Committee Chairman Devin Nu...    News   \n",
       "2  On Friday, it was revealed that former Milwauk...    News   \n",
       "3  On Christmas day, Donald Trump announced that ...    News   \n",
       "4  Pope Francis used his annual Christmas Day mes...    News   \n",
       "\n",
       "                date  class  \n",
       "0  December 31, 2017      0  \n",
       "1  December 31, 2017      0  \n",
       "2  December 30, 2017      0  \n",
       "3  December 29, 2017      0  \n",
       "4  December 25, 2017      0  "
      ]
     },
     "execution_count": 3,
     "metadata": {},
     "output_type": "execute_result"
    }
   ],
   "source": [
    "##now import the downloaded dataset.  \n",
    "data = pd.read_csv('News.csv',index_col=0)\n",
    "data.head()"
   ]
  },
  {
   "cell_type": "markdown",
   "id": "4415aa19",
   "metadata": {},
   "source": [
    "#Data preprocessing"
   ]
  },
  {
   "cell_type": "code",
   "execution_count": 4,
   "id": "1a68832c",
   "metadata": {},
   "outputs": [
    {
     "data": {
      "text/plain": [
       "(44919, 5)"
      ]
     },
     "execution_count": 4,
     "metadata": {},
     "output_type": "execute_result"
    }
   ],
   "source": [
    "data.shape\n",
    "##The shape of the dataset can be found by the below code."
   ]
  },
  {
   "cell_type": "code",
   "execution_count": 5,
   "id": "96675a24",
   "metadata": {},
   "outputs": [],
   "source": [
    "##the title, subject and date column will not going to be helpful in identification of the news. So, we can drop these column.\n",
    "data = data.drop([\"title\", \"subject\",\"date\"], axis = 1)"
   ]
  },
  {
   "cell_type": "code",
   "execution_count": 6,
   "id": "223a3c3e",
   "metadata": {},
   "outputs": [
    {
     "data": {
      "text/plain": [
       "text     0\n",
       "class    0\n",
       "dtype: int64"
      ]
     },
     "execution_count": 6,
     "metadata": {},
     "output_type": "execute_result"
    }
   ],
   "source": [
    "data.isnull().sum()\n",
    "##Now, we have to check if there is any null value (we will drop those rows)"
   ]
  },
  {
   "cell_type": "code",
   "execution_count": 7,
   "id": "1139ab15",
   "metadata": {},
   "outputs": [],
   "source": [
    "##Shuffling  Now we have to shuffle the dataset to prevent the model to getfrom getting biased. \n",
    "##After that, we will reset the index and then drop it. Because the index column is not useful to us.\n",
    "data = data.sample(frac=1)\n",
    "data.reset_index(inplace=True)\n",
    "data.drop([\"index\"], axis=1, inplace=True)\n"
   ]
  },
  {
   "cell_type": "code",
   "execution_count": 8,
   "id": "88f00abd",
   "metadata": {},
   "outputs": [
    {
     "data": {
      "text/plain": [
       "<AxesSubplot:xlabel='class', ylabel='count'>"
      ]
     },
     "execution_count": 8,
     "metadata": {},
     "output_type": "execute_result"
    },
    {
     "data": {
      "image/png": "[encoded data removed]",
      "text/plain": [
       "<Figure size 432x288 with 1 Axes>"
      ]
     },
     "metadata": {
      "needs_background": "light"
     },
     "output_type": "display_data"
    }
   ],
   "source": [
    "##Now Let’s explore the unique values in the each category using below code\n",
    "sns.countplot(data=data,\n",
    "\t\t\tx='class',\n",
    "\t\t\torder=data['class'].value_counts().index)\n"
   ]
  },
  {
   "cell_type": "markdown",
   "id": "24d4c891",
   "metadata": {},
   "source": [
    "#Preprocessing and analysis of News column"
   ]
  },
  {
   "cell_type": "code",
   "execution_count": 16,
   "id": "fcc457e1",
   "metadata": {},
   "outputs": [],
   "source": [
    "#Firstly we will remove all the stopwords, punctuations and any irrelevant spaces from the text.\n",
    "from tqdm import tqdm\n",
    "import re\n",
    "import nltk\n",
    "from nltk.corpus import stopwords\n",
    "from nltk.tokenize import word_tokenize\n",
    "from nltk.stem.porter import PorterStemmer\n",
    "from wordcloud import WordCloud\n"
   ]
  },
  {
   "cell_type": "code",
   "execution_count": null,
   "id": "0dce4fb1",
   "metadata": {},
   "outputs": [],
   "source": [
    "\n"
   ]
  },
  {
   "cell_type": "code",
   "execution_count": 17,
   "id": "5b35f06b",
   "metadata": {},
   "outputs": [],
   "source": [
    "#Once we have all the required modules, we can create a function name preprocess text. This function will preprocess all the data given as input.\n",
    "def preprocess_text(text_data):\n",
    "\tpreprocessed_text = []\n",
    "\t\n",
    "\tfor sentence in tqdm(text_data):\n",
    "\t\tsentence = re.sub(r'[^\\w\\s]', '', sentence)\n",
    "\t\tpreprocessed_text.append(' '.join(token.lower()\n",
    "\t\t\t\t\t\t\t\tfor token in str(sentence).split()\n",
    "\t\t\t\t\t\t\t\tif token not in stopwords.words('english')))\n",
    "\n",
    "\treturn preprocessed_text\n"
   ]
  },
  {
   "cell_type": "code",
   "execution_count": 18,
   "id": "e6e2c01e",
   "metadata": {},
   "outputs": [
    {
     "name": "stderr",
     "output_type": "stream",
     "text": [
      "100%|██████████████████████████████████████████████████████████████████████████| 44919/44919 [4:59:43<00:00,  2.50it/s]\n"
     ]
    }
   ],
   "source": [
    "#To implement the function in all the news in the text column, run this command.\n",
    "preprocessed_review = preprocess_text(data['text'].values)\n",
    "data['text'] = preprocessed_review\n"
   ]
  },
  {
   "cell_type": "markdown",
   "id": "29f24c71",
   "metadata": {},
   "source": [
    "now visualize the WordCloud for fake and real news separately."
   ]
  },
  {
   "cell_type": "code",
   "execution_count": null,
   "id": "226c0c97",
   "metadata": {},
   "outputs": [],
   "source": [
    "# Real\n",
    "consolidated = ' '.join(\n",
    "\tword for word in data['text'][data['class'] == 1].astype(str))\n",
    "wordCloud = WordCloud(width=1600,\n",
    "\t\t\t\t\theight=800,\n",
    "\t\t\t\t\trandom_state=21,\n",
    "\t\t\t\t\tmax_font_size=110,\n",
    "\t\t\t\t\tcollocations=False)\n",
    "plt.figure(figsize=(15, 10))\n",
    "plt.imshow(wordCloud.generate(consolidated), interpolation='bilinear')\n",
    "plt.axis('off')\n",
    "plt.show()"
   ]
  },
  {
   "cell_type": "code",
   "execution_count": null,
   "id": "1e1de1b3",
   "metadata": {},
   "outputs": [],
   "source": [
    "#Fake\n",
    "consolidated = ' '.join(\n",
    "\tword for word in data['text'][data['class'] == 0].astype(str))\n",
    "wordCloud = WordCloud(width=1600,\n",
    "\t\t\t\t\theight=800,\n",
    "\t\t\t\t\trandom_state=21,\n",
    "\t\t\t\t\tmax_font_size=110,\n",
    "\t\t\t\t\tcollocations=False)\n",
    "plt.figure(figsize=(15, 10))\n",
    "plt.imshow(wordCloud.generate(consolidated), interpolation='bilinear')\n",
    "plt.axis('off')\n",
    "plt.show()"
   ]
  },
  {
   "cell_type": "markdown",
   "id": "6ababb61",
   "metadata": {},
   "source": [
    " plot the bargraph of the top 20 most frequent words."
   ]
  },
  {
   "cell_type": "code",
   "execution_count": 31,
   "id": "10de97a7",
   "metadata": {},
   "outputs": [
    {
     "data": {
      "text/plain": [
       "<AxesSubplot:title={'center':'Bar Chart of Top Words Frequency'}, xlabel='Top Words', ylabel='Count'>"
      ]
     },
     "execution_count": 31,
     "metadata": {},
     "output_type": "execute_result"
    },
    {
     "data": {
      "image/png": "[encoded data removed]",
      "text/plain": [
       "<Figure size 720x432 with 1 Axes>"
      ]
     },
     "metadata": {
      "needs_background": "light"
     },
     "output_type": "display_data"
    }
   ],
   "source": [
    "from sklearn.feature_extraction.text import CountVectorizer\n",
    "\n",
    "\n",
    "def get_top_n_words(corpus, n=None):\n",
    "\tvec = CountVectorizer().fit(corpus)\n",
    "\tbag_of_words = vec.transform(corpus)\n",
    "\tsum_words = bag_of_words.sum(axis=0)\n",
    "\twords_freq = [(word, sum_words[0, idx])\n",
    "\t\t\t\tfor word, idx in vec.vocabulary_.items()]\n",
    "\twords_freq = sorted(words_freq, key=lambda x: x[1],\n",
    "\t\t\t\t\t\treverse=True)\n",
    "\treturn words_freq[:n]\n",
    "\n",
    "\n",
    "common_words = get_top_n_words(data['text'], 20)\n",
    "df1 = pd.DataFrame(common_words, columns=['Review', 'count'])\n",
    "\n",
    "df1.groupby('Review').sum()['count'].sort_values(ascending=False).plot(\n",
    "\tkind='bar',\n",
    "\tfigsize=(10, 6),\n",
    "\txlabel=\"Top Words\",\n",
    "\tylabel=\"Count\",\n",
    "\ttitle=\"Bar Chart of Top Words Frequency\"\n",
    ")\n"
   ]
  },
  {
   "cell_type": "markdown",
   "id": "9431ee4c",
   "metadata": {},
   "source": [
    "Converting text into Vectors"
   ]
  },
  {
   "cell_type": "code",
   "execution_count": 32,
   "id": "49a3f47f",
   "metadata": {},
   "outputs": [],
   "source": [
    "#Before converting the data into vectors, split it into train and test.\n",
    "from sklearn.model_selection import train_test_split\n",
    "from sklearn.metrics import accuracy_score\n",
    "from sklearn.linear_model import LogisticRegression\n",
    "\n",
    "x_train, x_test, y_train, y_test = train_test_split(data['text'],\n",
    "\t\t\t\t\t\t\t\t\t\t\t\t\tdata['class'],\n",
    "\t\t\t\t\t\t\t\t\t\t\t\t\ttest_size=0.25)\n"
   ]
  },
  {
   "cell_type": "code",
   "execution_count": 33,
   "id": "0c69742b",
   "metadata": {},
   "outputs": [],
   "source": [
    "#Now we can convert the training data into vectors using TfidfVectorizer.\n",
    "from sklearn.feature_extraction.text import TfidfVectorizer\n",
    "\n",
    "vectorization = TfidfVectorizer()\n",
    "x_train = vectorization.fit_transform(x_train)\n",
    "x_test = vectorization.transform(x_test)\n"
   ]
  },
  {
   "cell_type": "markdown",
   "id": "2638521f",
   "metadata": {},
   "source": [
    "# Model training, Evaluation, and Prediction"
   ]
  },
  {
   "cell_type": "markdown",
   "id": "a8e0aedb",
   "metadata": {},
   "source": [
    "Now, the dataset is ready to train the model.\n",
    "\n",
    "For training we will use Logistic Regression and evaluate the prediction accuracy using accuracy_score."
   ]
  },
  {
   "cell_type": "code",
   "execution_count": 13,
   "id": "bfe27f36",
   "metadata": {},
   "outputs": [
    {
     "name": "stdout",
     "output_type": "stream",
     "text": [
      "0.9907981833833002\n",
      "0.9877114870881567\n"
     ]
    }
   ],
   "source": [
    "from sklearn.linear_model import LogisticRegression\n",
    "\n",
    "model = LogisticRegression()\n",
    "model.fit(x_train, y_train)\n",
    "\n",
    "# testing the model\n",
    "print(accuracy_score(y_train, model.predict(x_train)))\n",
    "print(accuracy_score(y_test, model.predict(x_test)))\n"
   ]
  },
  {
   "cell_type": "markdown",
   "id": "d410b9f5",
   "metadata": {},
   "source": [
    "Now Let’s train with Decision Tree Classifier. "
   ]
  },
  {
   "cell_type": "code",
   "execution_count": 15,
   "id": "054ab3f6",
   "metadata": {},
   "outputs": [
    {
     "name": "stdout",
     "output_type": "stream",
     "text": [
      "0.9999703167205913\n",
      "0.9947462154942119\n"
     ]
    }
   ],
   "source": [
    "from sklearn.tree import DecisionTreeClassifier\n",
    "\n",
    "model = DecisionTreeClassifier()\n",
    "model.fit(x_train, y_train)\n",
    "\n",
    "# testing the model\n",
    "print(accuracy_score(y_train, model.predict(x_train)))\n",
    "print(accuracy_score(y_test, model.predict(x_test)))\n"
   ]
  },
  {
   "cell_type": "markdown",
   "id": "6065d0a5",
   "metadata": {},
   "source": [
    "The confusion matrix for Decision Tree Classifier can be implemented with the code below."
   ]
  },
  {
   "cell_type": "code",
   "execution_count": 1,
   "id": "a05b4632",
   "metadata": {},
   "outputs": [
    {
     "ename": "NameError",
     "evalue": "name 'y_test' is not defined",
     "output_type": "error",
     "traceback": [
      "\u001b[1;31m---------------------------------------------------------------------------\u001b[0m",
      "\u001b[1;31mNameError\u001b[0m                                 Traceback (most recent call last)",
      "Input \u001b[1;32mIn [1]\u001b[0m, in \u001b[0;36m<cell line: 3>\u001b[1;34m()\u001b[0m\n\u001b[0;32m      1\u001b[0m \u001b[38;5;66;03m# Confusion matrix of Results from Decision Tree classification\u001b[39;00m\n\u001b[0;32m      2\u001b[0m \u001b[38;5;28;01mfrom\u001b[39;00m \u001b[38;5;21;01msklearn\u001b[39;00m \u001b[38;5;28;01mimport\u001b[39;00m metrics\n\u001b[1;32m----> 3\u001b[0m cm \u001b[38;5;241m=\u001b[39m metrics\u001b[38;5;241m.\u001b[39mconfusion_matrix(\u001b[43my_test\u001b[49m, model\u001b[38;5;241m.\u001b[39mpredict(x_test))\n\u001b[0;32m      5\u001b[0m cm_display \u001b[38;5;241m=\u001b[39m metrics\u001b[38;5;241m.\u001b[39mConfusionMatrixDisplay(confusion_matrix\u001b[38;5;241m=\u001b[39mcm,\n\u001b[0;32m      6\u001b[0m \t\t\t\t\t\t\t\t\t\t\tdisplay_labels\u001b[38;5;241m=\u001b[39m[\u001b[38;5;28;01mFalse\u001b[39;00m, \u001b[38;5;28;01mTrue\u001b[39;00m])\n\u001b[0;32m      8\u001b[0m cm_display\u001b[38;5;241m.\u001b[39mplot()\n",
      "\u001b[1;31mNameError\u001b[0m: name 'y_test' is not defined"
     ]
    }
   ],
   "source": [
    "# Confusion matrix of Results from Decision Tree classification\n",
    "from sklearn import metrics\n",
    "cm = metrics.confusion_matrix(y_test, model.predict(x_test))\n",
    "\n",
    "cm_display = metrics.ConfusionMatrixDisplay(confusion_matrix=cm,\n",
    "\t\t\t\t\t\t\t\t\t\t\tdisplay_labels=[False, True])\n",
    "\n",
    "cm_display.plot()\n",
    "plt.show()\n"
   ]
  },
  {
   "cell_type": "markdown",
   "id": "5f6b0f9d",
   "metadata": {},
   "source": [
    "Conclusion\n",
    "Decision Tree Classifier and Logistic regression are performing well."
   ]
  },
  {
   "cell_type": "code",
   "execution_count": null,
   "id": "0eece949",
   "metadata": {},
   "outputs": [],
   "source": []
  }
 ],
 "metadata": {
  "kernelspec": {
   "display_name": "Python 3 (ipykernel)",
   "language": "python",
   "name": "python3"
  },
  "language_info": {
   "codemirror_mode": {
    "name": "ipython",
    "version": 3
   },
   "file_extension": ".py",
   "mimetype": "text/x-python",
   "name": "python",
   "nbconvert_exporter": "python",
   "pygments_lexer": "ipython3",
   "version": "3.9.12"
  }
 },
 "nbformat": 4,
 "nbformat_minor": 5
}
